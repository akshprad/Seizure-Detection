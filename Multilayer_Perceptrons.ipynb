{
  "nbformat": 4,
  "nbformat_minor": 0,
  "metadata": {
    "colab": {
      "name": "Multilayer Perceptrons.ipynb",
      "provenance": []
    },
    "kernelspec": {
      "name": "python3",
      "display_name": "Python 3"
    }
  },
  "cells": [
    {
      "cell_type": "code",
      "metadata": {
        "id": "X6wpykDtnTjc",
        "colab_type": "code",
        "colab": {
          "base_uri": "https://localhost:8080/",
          "height": 1000
        },
        "outputId": "bee85950-0410-485b-9cdf-d7cf64e8c50e"
      },
      "source": [
        "!pip install tensorflow-gpu==2.1\n",
        "!pip install hpbandster"
      ],
      "execution_count": 2,
      "outputs": [
        {
          "output_type": "stream",
          "text": [
            "Collecting tensorflow-gpu==2.1\n",
            "\u001b[?25l  Downloading https://files.pythonhosted.org/packages/0a/93/c7bca39b23aae45cd2e85ad3871c81eccc63b9c5276e926511e2e5b0879d/tensorflow_gpu-2.1.0-cp36-cp36m-manylinux2010_x86_64.whl (421.8MB)\n",
            "\u001b[K     |████████████████████████████████| 421.8MB 28kB/s \n",
            "\u001b[?25hRequirement already satisfied: absl-py>=0.7.0 in /usr/local/lib/python3.6/dist-packages (from tensorflow-gpu==2.1) (0.9.0)\n",
            "Requirement already satisfied: protobuf>=3.8.0 in /usr/local/lib/python3.6/dist-packages (from tensorflow-gpu==2.1) (3.10.0)\n",
            "Collecting tensorboard<2.2.0,>=2.1.0\n",
            "\u001b[?25l  Downloading https://files.pythonhosted.org/packages/d9/41/bbf49b61370e4f4d245d4c6051dfb6db80cec672605c91b1652ac8cc3d38/tensorboard-2.1.1-py3-none-any.whl (3.8MB)\n",
            "\u001b[K     |████████████████████████████████| 3.9MB 43.7MB/s \n",
            "\u001b[?25hCollecting tensorflow-estimator<2.2.0,>=2.1.0rc0\n",
            "\u001b[?25l  Downloading https://files.pythonhosted.org/packages/18/90/b77c328a1304437ab1310b463e533fa7689f4bfc41549593056d812fab8e/tensorflow_estimator-2.1.0-py2.py3-none-any.whl (448kB)\n",
            "\u001b[K     |████████████████████████████████| 450kB 44.7MB/s \n",
            "\u001b[?25hRequirement already satisfied: termcolor>=1.1.0 in /usr/local/lib/python3.6/dist-packages (from tensorflow-gpu==2.1) (1.1.0)\n",
            "Requirement already satisfied: grpcio>=1.8.6 in /usr/local/lib/python3.6/dist-packages (from tensorflow-gpu==2.1) (1.28.1)\n",
            "Requirement already satisfied: keras-preprocessing>=1.1.0 in /usr/local/lib/python3.6/dist-packages (from tensorflow-gpu==2.1) (1.1.0)\n",
            "Requirement already satisfied: astor>=0.6.0 in /usr/local/lib/python3.6/dist-packages (from tensorflow-gpu==2.1) (0.8.1)\n",
            "Requirement already satisfied: scipy==1.4.1; python_version >= \"3\" in /usr/local/lib/python3.6/dist-packages (from tensorflow-gpu==2.1) (1.4.1)\n",
            "Requirement already satisfied: six>=1.12.0 in /usr/local/lib/python3.6/dist-packages (from tensorflow-gpu==2.1) (1.12.0)\n",
            "Requirement already satisfied: google-pasta>=0.1.6 in /usr/local/lib/python3.6/dist-packages (from tensorflow-gpu==2.1) (0.2.0)\n",
            "Requirement already satisfied: wrapt>=1.11.1 in /usr/local/lib/python3.6/dist-packages (from tensorflow-gpu==2.1) (1.12.1)\n",
            "Requirement already satisfied: wheel>=0.26; python_version >= \"3\" in /usr/local/lib/python3.6/dist-packages (from tensorflow-gpu==2.1) (0.34.2)\n",
            "Requirement already satisfied: keras-applications>=1.0.8 in /usr/local/lib/python3.6/dist-packages (from tensorflow-gpu==2.1) (1.0.8)\n",
            "Requirement already satisfied: numpy<2.0,>=1.16.0 in /usr/local/lib/python3.6/dist-packages (from tensorflow-gpu==2.1) (1.18.2)\n",
            "Collecting gast==0.2.2\n",
            "  Downloading https://files.pythonhosted.org/packages/4e/35/11749bf99b2d4e3cceb4d55ca22590b0d7c2c62b9de38ac4a4a7f4687421/gast-0.2.2.tar.gz\n",
            "Requirement already satisfied: opt-einsum>=2.3.2 in /usr/local/lib/python3.6/dist-packages (from tensorflow-gpu==2.1) (3.2.1)\n",
            "Requirement already satisfied: setuptools in /usr/local/lib/python3.6/dist-packages (from protobuf>=3.8.0->tensorflow-gpu==2.1) (46.1.3)\n",
            "Requirement already satisfied: google-auth<2,>=1.6.3 in /usr/local/lib/python3.6/dist-packages (from tensorboard<2.2.0,>=2.1.0->tensorflow-gpu==2.1) (1.7.2)\n",
            "Requirement already satisfied: werkzeug>=0.11.15 in /usr/local/lib/python3.6/dist-packages (from tensorboard<2.2.0,>=2.1.0->tensorflow-gpu==2.1) (1.0.1)\n",
            "Requirement already satisfied: markdown>=2.6.8 in /usr/local/lib/python3.6/dist-packages (from tensorboard<2.2.0,>=2.1.0->tensorflow-gpu==2.1) (3.2.1)\n",
            "Requirement already satisfied: requests<3,>=2.21.0 in /usr/local/lib/python3.6/dist-packages (from tensorboard<2.2.0,>=2.1.0->tensorflow-gpu==2.1) (2.21.0)\n",
            "Requirement already satisfied: google-auth-oauthlib<0.5,>=0.4.1 in /usr/local/lib/python3.6/dist-packages (from tensorboard<2.2.0,>=2.1.0->tensorflow-gpu==2.1) (0.4.1)\n",
            "Requirement already satisfied: h5py in /usr/local/lib/python3.6/dist-packages (from keras-applications>=1.0.8->tensorflow-gpu==2.1) (2.10.0)\n",
            "Requirement already satisfied: cachetools<3.2,>=2.0.0 in /usr/local/lib/python3.6/dist-packages (from google-auth<2,>=1.6.3->tensorboard<2.2.0,>=2.1.0->tensorflow-gpu==2.1) (3.1.1)\n",
            "Requirement already satisfied: pyasn1-modules>=0.2.1 in /usr/local/lib/python3.6/dist-packages (from google-auth<2,>=1.6.3->tensorboard<2.2.0,>=2.1.0->tensorflow-gpu==2.1) (0.2.8)\n",
            "Requirement already satisfied: rsa<4.1,>=3.1.4 in /usr/local/lib/python3.6/dist-packages (from google-auth<2,>=1.6.3->tensorboard<2.2.0,>=2.1.0->tensorflow-gpu==2.1) (4.0)\n",
            "Requirement already satisfied: idna<2.9,>=2.5 in /usr/local/lib/python3.6/dist-packages (from requests<3,>=2.21.0->tensorboard<2.2.0,>=2.1.0->tensorflow-gpu==2.1) (2.8)\n",
            "Requirement already satisfied: urllib3<1.25,>=1.21.1 in /usr/local/lib/python3.6/dist-packages (from requests<3,>=2.21.0->tensorboard<2.2.0,>=2.1.0->tensorflow-gpu==2.1) (1.24.3)\n",
            "Requirement already satisfied: certifi>=2017.4.17 in /usr/local/lib/python3.6/dist-packages (from requests<3,>=2.21.0->tensorboard<2.2.0,>=2.1.0->tensorflow-gpu==2.1) (2020.4.5.1)\n",
            "Requirement already satisfied: chardet<3.1.0,>=3.0.2 in /usr/local/lib/python3.6/dist-packages (from requests<3,>=2.21.0->tensorboard<2.2.0,>=2.1.0->tensorflow-gpu==2.1) (3.0.4)\n",
            "Requirement already satisfied: requests-oauthlib>=0.7.0 in /usr/local/lib/python3.6/dist-packages (from google-auth-oauthlib<0.5,>=0.4.1->tensorboard<2.2.0,>=2.1.0->tensorflow-gpu==2.1) (1.3.0)\n",
            "Requirement already satisfied: pyasn1<0.5.0,>=0.4.6 in /usr/local/lib/python3.6/dist-packages (from pyasn1-modules>=0.2.1->google-auth<2,>=1.6.3->tensorboard<2.2.0,>=2.1.0->tensorflow-gpu==2.1) (0.4.8)\n",
            "Requirement already satisfied: oauthlib>=3.0.0 in /usr/local/lib/python3.6/dist-packages (from requests-oauthlib>=0.7.0->google-auth-oauthlib<0.5,>=0.4.1->tensorboard<2.2.0,>=2.1.0->tensorflow-gpu==2.1) (3.1.0)\n",
            "Building wheels for collected packages: gast\n",
            "  Building wheel for gast (setup.py) ... \u001b[?25l\u001b[?25hdone\n",
            "  Created wheel for gast: filename=gast-0.2.2-cp36-none-any.whl size=7540 sha256=fb9bf6c3c451d88a6d88aaf24a20c769fa2ad85769ce2797a3e7449f8b93a3ff\n",
            "  Stored in directory: /root/.cache/pip/wheels/5c/2e/7e/a1d4d4fcebe6c381f378ce7743a3ced3699feb89bcfbdadadd\n",
            "Successfully built gast\n",
            "\u001b[31mERROR: tensorflow 2.2.0rc3 has requirement gast==0.3.3, but you'll have gast 0.2.2 which is incompatible.\u001b[0m\n",
            "\u001b[31mERROR: tensorflow 2.2.0rc3 has requirement tensorboard<2.3.0,>=2.2.0, but you'll have tensorboard 2.1.1 which is incompatible.\u001b[0m\n",
            "\u001b[31mERROR: tensorflow 2.2.0rc3 has requirement tensorflow-estimator<2.3.0,>=2.2.0rc0, but you'll have tensorflow-estimator 2.1.0 which is incompatible.\u001b[0m\n",
            "\u001b[31mERROR: tensorflow-probability 0.10.0rc0 has requirement gast>=0.3.2, but you'll have gast 0.2.2 which is incompatible.\u001b[0m\n",
            "Installing collected packages: tensorboard, tensorflow-estimator, gast, tensorflow-gpu\n",
            "  Found existing installation: tensorboard 2.2.1\n",
            "    Uninstalling tensorboard-2.2.1:\n",
            "      Successfully uninstalled tensorboard-2.2.1\n",
            "  Found existing installation: tensorflow-estimator 2.2.0\n",
            "    Uninstalling tensorflow-estimator-2.2.0:\n",
            "      Successfully uninstalled tensorflow-estimator-2.2.0\n",
            "  Found existing installation: gast 0.3.3\n",
            "    Uninstalling gast-0.3.3:\n",
            "      Successfully uninstalled gast-0.3.3\n",
            "Successfully installed gast-0.2.2 tensorboard-2.1.1 tensorflow-estimator-2.1.0 tensorflow-gpu-2.1.0\n",
            "Collecting hpbandster\n",
            "\u001b[?25l  Downloading https://files.pythonhosted.org/packages/13/3e/62192b0bb527d9353d222b4b6df14400b3c4f36a92a2b138f11a5eafe000/hpbandster-0.7.4.tar.gz (51kB)\n",
            "\u001b[K     |████████████████████████████████| 61kB 2.1MB/s \n",
            "\u001b[?25hCollecting Pyro4\n",
            "\u001b[?25l  Downloading https://files.pythonhosted.org/packages/00/83/b05a3e6e253dc6bed35edb1ae0c29f1bc589c038dabaa85ce5ee37c72bd0/Pyro4-4.79-py2.py3-none-any.whl (89kB)\n",
            "\u001b[K     |████████████████████████████████| 92kB 4.6MB/s \n",
            "\u001b[?25hCollecting serpent\n",
            "  Downloading https://files.pythonhosted.org/packages/b4/a1/24871492bfc34ea18aee3bf38e0cee22d8c11d8d5e765ccc921103140747/serpent-1.30.2-py3-none-any.whl\n",
            "Collecting ConfigSpace\n",
            "\u001b[?25l  Downloading https://files.pythonhosted.org/packages/28/26/eddb59c773bfcc6376ae8e05ddb9b6469c9d7e6abed28d48211a6e5d6541/ConfigSpace-0.4.12.tar.gz (966kB)\n",
            "\u001b[K     |████████████████████████████████| 972kB 10.3MB/s \n",
            "\u001b[?25hRequirement already satisfied: numpy in /usr/local/lib/python3.6/dist-packages (from hpbandster) (1.18.2)\n",
            "Requirement already satisfied: statsmodels in /usr/local/lib/python3.6/dist-packages (from hpbandster) (0.10.2)\n",
            "Requirement already satisfied: scipy in /usr/local/lib/python3.6/dist-packages (from hpbandster) (1.4.1)\n",
            "Collecting netifaces\n",
            "  Downloading https://files.pythonhosted.org/packages/0c/9b/c4c7eb09189548d45939a3d3a6b3d53979c67d124459b27a094c365c347f/netifaces-0.10.9-cp36-cp36m-manylinux1_x86_64.whl\n",
            "Requirement already satisfied: cython in /usr/local/lib/python3.6/dist-packages (from ConfigSpace->hpbandster) (0.29.16)\n",
            "Requirement already satisfied: pyparsing in /usr/local/lib/python3.6/dist-packages (from ConfigSpace->hpbandster) (2.4.7)\n",
            "Requirement already satisfied: patsy>=0.4.0 in /usr/local/lib/python3.6/dist-packages (from statsmodels->hpbandster) (0.5.1)\n",
            "Requirement already satisfied: pandas>=0.19 in /usr/local/lib/python3.6/dist-packages (from statsmodels->hpbandster) (1.0.3)\n",
            "Requirement already satisfied: six in /usr/local/lib/python3.6/dist-packages (from patsy>=0.4.0->statsmodels->hpbandster) (1.12.0)\n",
            "Requirement already satisfied: pytz>=2017.2 in /usr/local/lib/python3.6/dist-packages (from pandas>=0.19->statsmodels->hpbandster) (2018.9)\n",
            "Requirement already satisfied: python-dateutil>=2.6.1 in /usr/local/lib/python3.6/dist-packages (from pandas>=0.19->statsmodels->hpbandster) (2.8.1)\n",
            "Building wheels for collected packages: hpbandster, ConfigSpace\n",
            "  Building wheel for hpbandster (setup.py) ... \u001b[?25l\u001b[?25hdone\n",
            "  Created wheel for hpbandster: filename=hpbandster-0.7.4-cp36-none-any.whl size=80007 sha256=fc792aa5f8566cda14b1b68ae4f8f4b95b79f8e1f97a48a55544e91414bc9862\n",
            "  Stored in directory: /root/.cache/pip/wheels/9d/57/62/6b00c8011bac96e0c404adc5be4e16964ba4544614240b4e23\n",
            "  Building wheel for ConfigSpace (setup.py) ... \u001b[?25l\u001b[?25hdone\n",
            "  Created wheel for ConfigSpace: filename=ConfigSpace-0.4.12-cp36-cp36m-linux_x86_64.whl size=2925906 sha256=a31e48d072275d025838471ba97af05ed9f7931e75e2e967ee2e651d018e7ab5\n",
            "  Stored in directory: /root/.cache/pip/wheels/ae/b2/85/feafec2387f97065d914a72c42ff3a0f6f60d8e1fd03c6bd4b\n",
            "Successfully built hpbandster ConfigSpace\n",
            "Installing collected packages: serpent, Pyro4, ConfigSpace, netifaces, hpbandster\n",
            "Successfully installed ConfigSpace-0.4.12 Pyro4-4.79 hpbandster-0.7.4 netifaces-0.10.9 serpent-1.30.2\n"
          ],
          "name": "stdout"
        }
      ]
    },
    {
      "cell_type": "code",
      "metadata": {
        "id": "NqJXbbyjHMjB",
        "colab_type": "code",
        "colab": {
          "base_uri": "https://localhost:8080/",
          "height": 34
        },
        "outputId": "8da1019e-7277-41fe-cf08-e053e72de1a7"
      },
      "source": [
        "import tensorflow\n",
        "tensorflow.__version__"
      ],
      "execution_count": 3,
      "outputs": [
        {
          "output_type": "execute_result",
          "data": {
            "text/plain": [
              "'2.1.0'"
            ]
          },
          "metadata": {
            "tags": []
          },
          "execution_count": 3
        }
      ]
    },
    {
      "cell_type": "code",
      "metadata": {
        "id": "9RsUB9bcH-Jy",
        "colab_type": "code",
        "colab": {}
      },
      "source": [
        "from google.colab import drive\n",
        "import sys\n",
        "import os\n",
        "\n",
        "CLASS_BACK = '.'\n",
        "\n",
        "# colours for printing outputs\n",
        "class color:\n",
        "   PURPLE = '\\033[95m'\n",
        "   CYAN = '\\033[96m'\n",
        "   DARKCYAN = '\\033[36m'\n",
        "   BLUE = '\\033[94m'\n",
        "   GREEN = '\\033[92m'\n",
        "   YELLOW = '\\033[93m'\n",
        "   RED = '\\033[91m'\n",
        "   BOLD = '\\033[1m'\n",
        "   UNDERLINE = '\\033[4m'\n",
        "   END = '\\033[0m'"
      ],
      "execution_count": 0,
      "outputs": []
    },
    {
      "cell_type": "code",
      "metadata": {
        "id": "XQ8SNhKSIEPx",
        "colab_type": "code",
        "colab": {
          "base_uri": "https://localhost:8080/",
          "height": 85
        },
        "outputId": "bcb9f2af-6524-46e2-8f49-f38d3526835a"
      },
      "source": [
        "import os\n",
        "import gdown\n",
        "FILE_PATH = 'TUH_feat.hdf5'\n",
        "\n",
        "if not os.path.exists(FILE_PATH):\n",
        "    gdown.download('https://drive.google.com/uc?id=1-VCuFpjiVEwtgE31te0Z7zdzEKs5HeLU', \n",
        "                './'+FILE_PATH, quiet=False)"
      ],
      "execution_count": 5,
      "outputs": [
        {
          "output_type": "stream",
          "text": [
            "Downloading...\n",
            "From: https://drive.google.com/uc?id=1-VCuFpjiVEwtgE31te0Z7zdzEKs5HeLU\n",
            "To: /content/TUH_feat.hdf5\n",
            "216MB [00:06, 33.8MB/s]\n"
          ],
          "name": "stderr"
        }
      ]
    },
    {
      "cell_type": "code",
      "metadata": {
        "id": "sg_m9Ke_Iser",
        "colab_type": "code",
        "colab": {
          "base_uri": "https://localhost:8080/",
          "height": 187
        },
        "outputId": "331ef2e6-7243-4a4d-a826-b81ff717bcc1"
      },
      "source": [
        "import h5py\n",
        "\n",
        "f = h5py.File(FILE_PATH, 'r')\n",
        "key_list = list(f.keys())\n",
        "key_list"
      ],
      "execution_count": 6,
      "outputs": [
        {
          "output_type": "execute_result",
          "data": {
            "text/plain": [
              "['00000675',\n",
              " '00001113',\n",
              " '00001413',\n",
              " '00001984',\n",
              " '00002448',\n",
              " '00002657',\n",
              " '00003053',\n",
              " '00003281',\n",
              " '00003306',\n",
              " '00003635']"
            ]
          },
          "metadata": {
            "tags": []
          },
          "execution_count": 6
        }
      ]
    },
    {
      "cell_type": "code",
      "metadata": {
        "id": "puWPSaDOIvQd",
        "colab_type": "code",
        "colab": {
          "base_uri": "https://localhost:8080/",
          "height": 221
        },
        "outputId": "7e7d19c4-f6ea-4fc1-a278-b39aa9f3863e"
      },
      "source": [
        "from sklearn.model_selection import train_test_split\n",
        "\n",
        "TEST_SIZE = 0.2\n",
        "RANDOM_STATE = 0\n",
        "\n",
        "train_list, test_list = train_test_split(key_list, test_size=TEST_SIZE, \n",
        "                                         random_state=RANDOM_STATE)\n",
        "data_lists = {'train': train_list, \n",
        "              'test': test_list}\n",
        "\n",
        "print(color.BOLD+color.UNDERLINE+'Training List'+color.END)\n",
        "display(train_list)\n",
        "print()\n",
        "print(color.BOLD+color.UNDERLINE+'Test List'+color.END)\n",
        "display(test_list)"
      ],
      "execution_count": 7,
      "outputs": [
        {
          "output_type": "stream",
          "text": [
            "\u001b[1m\u001b[4mTraining List\u001b[0m\n"
          ],
          "name": "stdout"
        },
        {
          "output_type": "display_data",
          "data": {
            "text/plain": [
              "['00002448',\n",
              " '00003635',\n",
              " '00001113',\n",
              " '00003053',\n",
              " '00003281',\n",
              " '00001984',\n",
              " '00000675',\n",
              " '00002657']"
            ]
          },
          "metadata": {
            "tags": []
          }
        },
        {
          "output_type": "stream",
          "text": [
            "\n",
            "\u001b[1m\u001b[4mTest List\u001b[0m\n"
          ],
          "name": "stdout"
        },
        {
          "output_type": "display_data",
          "data": {
            "text/plain": [
              "['00001413', '00003306']"
            ]
          },
          "metadata": {
            "tags": []
          }
        }
      ]
    },
    {
      "cell_type": "code",
      "metadata": {
        "id": "XC_s5JgeI1KY",
        "colab_type": "code",
        "colab": {
          "base_uri": "https://localhost:8080/",
          "height": 51
        },
        "outputId": "595b7791-bd45-4a0d-d4cb-3f66f1798762"
      },
      "source": [
        "import pandas as pd\n",
        "\n",
        "def make_data(data_lists):\n",
        "  data_dict = {}\n",
        "  for data_type in data_lists:\n",
        "    key_list = data_lists[data_type]\n",
        "    for i, part_id in enumerate(key_list):\n",
        "      if i == 0:\n",
        "        data = pd.read_hdf(FILE_PATH, part_id)\n",
        "      else:\n",
        "        data = pd.concat([data, pd.read_hdf(FILE_PATH, part_id)])\n",
        "    data_dict[data_type] = data\n",
        "  return data_dict\n",
        "    \n",
        "data_dict = make_data(data_lists)\n",
        "\n",
        "X_train = data_dict['train'].values\n",
        "X_test = data_dict['test'].values\n",
        "y_train = data_dict['train'].index.values\n",
        "y_test = data_dict['test'].index.values\n",
        "feat_names = list(data_dict['train'].columns)\n",
        "\n",
        "display(X_train.shape)\n",
        "display(X_test.shape)"
      ],
      "execution_count": 8,
      "outputs": [
        {
          "output_type": "display_data",
          "data": {
            "text/plain": [
              "(15566, 1298)"
            ]
          },
          "metadata": {
            "tags": []
          }
        },
        {
          "output_type": "display_data",
          "data": {
            "text/plain": [
              "(5050, 1298)"
            ]
          },
          "metadata": {
            "tags": []
          }
        }
      ]
    },
    {
      "cell_type": "code",
      "metadata": {
        "id": "03k0jeQLI4Ds",
        "colab_type": "code",
        "colab": {
          "base_uri": "https://localhost:8080/",
          "height": 51
        },
        "outputId": "e1aa1c6c-09ab-4b42-c4d7-c8bb7fb2de23"
      },
      "source": [
        "import numpy as np\n",
        "from sklearn import preprocessing\n",
        "display(np.unique(y_train))\n",
        "\n",
        "# lets change integers\n",
        "le = preprocessing.LabelEncoder()\n",
        "y_train = le.fit_transform(y_train)\n",
        "y_test = le.transform(y_test)\n",
        "\n",
        "display(np.unique(y_train))"
      ],
      "execution_count": 9,
      "outputs": [
        {
          "output_type": "display_data",
          "data": {
            "text/plain": [
              "array([ 6, 12])"
            ]
          },
          "metadata": {
            "tags": []
          }
        },
        {
          "output_type": "display_data",
          "data": {
            "text/plain": [
              "array([0, 1])"
            ]
          },
          "metadata": {
            "tags": []
          }
        }
      ]
    },
    {
      "cell_type": "code",
      "metadata": {
        "id": "y5zgphGnZqYH",
        "colab_type": "code",
        "colab": {
          "base_uri": "https://localhost:8080/",
          "height": 85
        },
        "outputId": "6a6b40e5-f8e6-407d-decb-0061c5f266c8"
      },
      "source": [
        "#Perceptrons\n",
        "%%time\n",
        "import numpy as np\n",
        "from sklearn.linear_model import Perceptron\n",
        "from sklearn.model_selection import cross_val_score\n",
        "from sklearn.metrics import make_scorer\n",
        "\n",
        "per_clf = Perceptron(max_iter=100, #tol=-np.infty, \n",
        "                     random_state=RANDOM_STATE)\n",
        "\n",
        "scores = cross_val_score(estimator=per_clf, \n",
        "                         X=X_train, \n",
        "                         y=y_train, \n",
        "                         scoring = 'accuracy',\n",
        "                         cv=5,\n",
        "                         n_jobs=-1)\n",
        "\n",
        "print('CV accuracy scores: %s' % scores)\n",
        "print('CV accuracy: %.3f +/- %.3f' % (np.mean(scores), np.std(scores)))"
      ],
      "execution_count": 10,
      "outputs": [
        {
          "output_type": "stream",
          "text": [
            "CV accuracy scores: [0.98715478 0.98329586 0.96562801 0.97494378 0.97012528]\n",
            "CV accuracy: 0.976 +/- 0.008\n",
            "CPU times: user 91.3 ms, sys: 341 ms, total: 432 ms\n",
            "Wall time: 4.26 s\n"
          ],
          "name": "stdout"
        }
      ]
    },
    {
      "cell_type": "code",
      "metadata": {
        "id": "epA32sVDZ6w9",
        "colab_type": "code",
        "colab": {
          "base_uri": "https://localhost:8080/",
          "height": 139
        },
        "outputId": "701f2f3f-1603-48b0-9c4d-915ff09a8440"
      },
      "source": [
        "%%time\n",
        "from sklearn.neural_network import MLPClassifier\n",
        "\n",
        "per_clf = MLPClassifier(\n",
        "    hidden_layer_sizes = (100,),\n",
        "    max_iter=100,\n",
        "    early_stopping = True, \n",
        "    random_state=RANDOM_STATE)\n",
        "\n",
        "scores = cross_val_score(estimator=per_clf, \n",
        "                         X=X_train, \n",
        "                         y=y_train, \n",
        "                         scoring = 'accuracy',\n",
        "                         cv=5,\n",
        "                         n_jobs=-1)\n",
        "\n",
        "print('CV accuracy scores: %s' % scores)\n",
        "print('CV accuracy: %.3f +/- %.3f' % (np.mean(scores), np.std(scores)))"
      ],
      "execution_count": 11,
      "outputs": [
        {
          "output_type": "stream",
          "text": [
            "/usr/local/lib/python3.6/dist-packages/joblib/externals/loky/process_executor.py:706: UserWarning: A worker stopped while some jobs were given to the executor. This can be caused by a too short worker timeout or by a memory leak.\n",
            "  \"timeout or by a memory leak.\", UserWarning\n"
          ],
          "name": "stderr"
        },
        {
          "output_type": "stream",
          "text": [
            "CV accuracy scores: [0.9894027  0.99004176 0.98490202 0.98875683 0.97558625]\n",
            "CV accuracy: 0.986 +/- 0.005\n",
            "CPU times: user 66.9 ms, sys: 91.8 ms, total: 159 ms\n",
            "Wall time: 32.4 s\n"
          ],
          "name": "stdout"
        }
      ]
    },
    {
      "cell_type": "code",
      "metadata": {
        "id": "h6lEPX1CacLc",
        "colab_type": "code",
        "colab": {
          "base_uri": "https://localhost:8080/",
          "height": 255
        },
        "outputId": "e223ad28-06f1-4485-b0fa-1693b823593b"
      },
      "source": [
        "#Keras\n",
        "from tensorflow.keras.models import Sequential\n",
        "from tensorflow.keras.layers import Dense\n",
        "\n",
        "model = Sequential()\n",
        "\n",
        "model.add(Dense(units=300,\n",
        "                input_dim=X_train.shape[1],\n",
        "                activation='tanh'))\n",
        "\n",
        "model.add(Dense(units=100,\n",
        "                activation='tanh'))\n",
        "\n",
        "model.add(Dense(units=1,\n",
        "                activation='sigmoid'))\n",
        "\n",
        "model.summary()"
      ],
      "execution_count": 12,
      "outputs": [
        {
          "output_type": "stream",
          "text": [
            "Model: \"sequential\"\n",
            "_________________________________________________________________\n",
            "Layer (type)                 Output Shape              Param #   \n",
            "=================================================================\n",
            "dense (Dense)                (None, 300)               389700    \n",
            "_________________________________________________________________\n",
            "dense_1 (Dense)              (None, 100)               30100     \n",
            "_________________________________________________________________\n",
            "dense_2 (Dense)              (None, 1)                 101       \n",
            "=================================================================\n",
            "Total params: 419,901\n",
            "Trainable params: 419,901\n",
            "Non-trainable params: 0\n",
            "_________________________________________________________________\n"
          ],
          "name": "stdout"
        }
      ]
    },
    {
      "cell_type": "code",
      "metadata": {
        "id": "sZ-BJcHzaov8",
        "colab_type": "code",
        "colab": {
          "base_uri": "https://localhost:8080/",
          "height": 282
        },
        "outputId": "7797d8fc-3a20-49b2-e7a9-bcc3ca08327c"
      },
      "source": [
        "%matplotlib inline\n",
        "\n",
        "import matplotlib.pyplot as plt\n",
        "import numpy as np\n",
        "\n",
        "def sigmoid(z):\n",
        "    return 1 / (1 + np.exp(-z))\n",
        "\n",
        "def relu(z):\n",
        "    return np.maximum(0, z)\n",
        "\n",
        "def derivative(f, z, eps=0.000001):\n",
        "    return (f(z + eps) - f(z - eps))/(2 * eps)\n",
        "\n",
        "z = np.linspace(-5, 5, 200)\n",
        "\n",
        "plt.figure()\n",
        "\n",
        "plt.plot(z, np.sign(z), \"r-\", linewidth=1, label=\"Step\")\n",
        "plt.plot(z, sigmoid(z), \"g--\", linewidth=2, label=\"Sigmoid\")\n",
        "plt.plot(z, np.tanh(z), \"b-\", linewidth=2, label=\"Tanh\")\n",
        "plt.plot(z, relu(z), \"m-.\", linewidth=2, label=\"ReLU\")\n",
        "plt.grid(True)\n",
        "plt.legend(loc=\"center right\", fontsize=14)\n",
        "plt.title(\"Activation functions\", fontsize=14)\n",
        "plt.axis([-5, 5, -1.2, 1.2])\n",
        "\n",
        "plt.show()"
      ],
      "execution_count": 13,
      "outputs": [
        {
          "output_type": "display_data",
          "data": {
            "image/png": "[encoded data removed]",
            "text/plain": [
              "<Figure size 432x288 with 1 Axes>"
            ]
          },
          "metadata": {
            "tags": [],
            "needs_background": "light"
          }
        }
      ]
    },
    {
      "cell_type": "code",
      "metadata": {
        "id": "Mbk9zS4GauZy",
        "colab_type": "code",
        "colab": {
          "base_uri": "https://localhost:8080/",
          "height": 282
        },
        "outputId": "de76132e-669c-4f7f-9a39-11799fa1661f"
      },
      "source": [
        "# for leaky_relu\n",
        "def leaky_relu(z, alpha=0.01):\n",
        "    return np.maximum(alpha*z, z)\n",
        "\n",
        "z = np.linspace(-5, 5, 200)\n",
        "\n",
        "plt.plot(z, leaky_relu(z, 0.05), \"b-\", linewidth=2)\n",
        "plt.plot([-5, 5], [0, 0], 'k-')\n",
        "plt.plot([0, 0], [-0.5, 4.2], 'k-')\n",
        "plt.grid(True)\n",
        "props = dict(facecolor='black', shrink=0.1)\n",
        "plt.annotate('Leak', xytext=(-3.5, 0.5), xy=(-5, -0.2), arrowprops=props, fontsize=14, ha=\"center\")\n",
        "plt.title(\"Leaky ReLU activation function\", fontsize=14)\n",
        "plt.axis([-5, 5, -0.5, 4.2])\n",
        "\n",
        "plt.show()"
      ],
      "execution_count": 14,
      "outputs": [
        {
          "output_type": "display_data",
          "data": {
            "image/png": "[encoded data removed]",
            "text/plain": [
              "<Figure size 432x288 with 1 Axes>"
            ]
          },
          "metadata": {
            "tags": [],
            "needs_background": "light"
          }
        }
      ]
    },
    {
      "cell_type": "code",
      "metadata": {
        "id": "a0U7DgmDazB3",
        "colab_type": "code",
        "colab": {
          "base_uri": "https://localhost:8080/",
          "height": 284
        },
        "outputId": "300973ab-647e-40f9-da01-8bd4719a4535"
      },
      "source": [
        "def elu(z, alpha=1):\n",
        "    return np.where(z < 0, alpha * (np.exp(z) - 1), z)\n",
        "\n",
        "plt.plot(z, elu(z), \"b-\", linewidth=2)\n",
        "plt.plot([-5, 5], [0, 0], 'k-')\n",
        "plt.plot([-5, 5], [-1, -1], 'k--')\n",
        "plt.plot([0, 0], [-2.2, 3.2], 'k-')\n",
        "plt.grid(True)\n",
        "plt.title(r\"ELU activation function ($\\alpha=1$)\", fontsize=14)\n",
        "plt.axis([-5, 5, -2.2, 3.2])\n",
        "\n",
        "plt.show()"
      ],
      "execution_count": 15,
      "outputs": [
        {
          "output_type": "display_data",
          "data": {
            "image/png": "[encoded data removed]",
            "text/plain": [
              "<Figure size 432x288 with 1 Axes>"
            ]
          },
          "metadata": {
            "tags": [],
            "needs_background": "light"
          }
        }
      ]
    },
    {
      "cell_type": "code",
      "metadata": {
        "id": "EnSXOodNa4nv",
        "colab_type": "code",
        "colab": {
          "base_uri": "https://localhost:8080/",
          "height": 282
        },
        "outputId": "483fc154-391d-4ef6-be41-77c4fd82f987"
      },
      "source": [
        "from scipy.special import erfc\n",
        "\n",
        "# alpha and scale to self normalize with mean 0 and standard deviation 1\n",
        "# (see equation 14 in the paper):\n",
        "alpha_0_1 = -np.sqrt(2 / np.pi) / (erfc(1/np.sqrt(2)) * np.exp(1/2) - 1)\n",
        "scale_0_1 = (1 - erfc(1 / np.sqrt(2)) * np.sqrt(np.e)) * np.sqrt(2 * np.pi) * (2 * erfc(np.sqrt(2))*np.e**2 + np.pi*erfc(1/np.sqrt(2))**2*np.e - 2*(2+np.pi)*erfc(1/np.sqrt(2))*np.sqrt(np.e)+np.pi+2)**(-1/2)\n",
        "\n",
        "def selu(z, scale=scale_0_1, alpha=alpha_0_1):\n",
        "    return scale * elu(z, alpha)\n",
        "\n",
        "plt.plot(z, selu(z), \"b-\", linewidth=2)\n",
        "plt.plot([-5, 5], [0, 0], 'k-')\n",
        "plt.plot([-5, 5], [-1.758, -1.758], 'k--')\n",
        "plt.plot([0, 0], [-2.2, 3.2], 'k-')\n",
        "plt.grid(True)\n",
        "plt.title(r\"SELU activation function\", fontsize=14)\n",
        "plt.axis([-5, 5, -2.2, 3.2])\n",
        "\n",
        "plt.show()"
      ],
      "execution_count": 16,
      "outputs": [
        {
          "output_type": "display_data",
          "data": {
            "image/png": "[encoded data removed]",
            "text/plain": [
              "<Figure size 432x288 with 1 Axes>"
            ]
          },
          "metadata": {
            "tags": [],
            "needs_background": "light"
          }
        }
      ]
    },
    {
      "cell_type": "code",
      "metadata": {
        "id": "xtTCqHHLbcxJ",
        "colab_type": "code",
        "colab": {}
      },
      "source": [
        "loss = 'binary_crossentropy'\n",
        "from tensorflow.keras.optimizers import Adam\n",
        "\n",
        "model.compile(optimizer=Adam(0.001),\n",
        "              loss=loss,\n",
        "              metrics=['accuracy', 'AUC', 'Recall', 'Precision'])"
      ],
      "execution_count": 0,
      "outputs": []
    },
    {
      "cell_type": "code",
      "metadata": {
        "id": "4eeF8j95bsuX",
        "colab_type": "code",
        "colab": {
          "base_uri": "https://localhost:8080/",
          "height": 255
        },
        "outputId": "0f11a72e-7d26-4356-8001-f1a7b3eb0755"
      },
      "source": [
        "from tensorflow.keras.backend import clear_session\n",
        "\n",
        "# Returns a short sequential model\n",
        "def create_model():\n",
        "  model = Sequential()\n",
        "\n",
        "  model.add(Dense(units=300,\n",
        "                  input_dim=X_train.shape[1],\n",
        "                  activation='relu'))\n",
        "\n",
        "  model.add(Dense(units=100,\n",
        "                  activation='relu'))\n",
        "\n",
        "  model.add(Dense(units=1,\n",
        "                  activation='sigmoid'))\n",
        "\n",
        "  model.compile(optimizer=Adam(0.001),\n",
        "                loss=loss,\n",
        "                metrics=['accuracy', 'AUC', 'Recall', 'Precision'])\n",
        "\n",
        "  return model\n",
        "\n",
        "clear_session()\n",
        "# Create a basic model instance\n",
        "model = create_model()\n",
        "model.summary()"
      ],
      "execution_count": 20,
      "outputs": [
        {
          "output_type": "stream",
          "text": [
            "Model: \"sequential\"\n",
            "_________________________________________________________________\n",
            "Layer (type)                 Output Shape              Param #   \n",
            "=================================================================\n",
            "dense (Dense)                (None, 300)               389700    \n",
            "_________________________________________________________________\n",
            "dense_1 (Dense)              (None, 100)               30100     \n",
            "_________________________________________________________________\n",
            "dense_2 (Dense)              (None, 1)                 101       \n",
            "=================================================================\n",
            "Total params: 419,901\n",
            "Trainable params: 419,901\n",
            "Non-trainable params: 0\n",
            "_________________________________________________________________\n"
          ],
          "name": "stdout"
        }
      ]
    },
    {
      "cell_type": "code",
      "metadata": {
        "id": "5D3mWtwNb3Cw",
        "colab_type": "code",
        "colab": {}
      },
      "source": [
        "from tensorflow.keras.callbacks import ModelCheckpoint\n",
        "\n",
        "best_model_filepath = \"Best_MLP_Model.ckpt\"\n",
        "\n",
        "# Save the model under certain conditions\n",
        "callback_checkpoint = ModelCheckpoint(filepath=best_model_filepath,\n",
        "                                      monitor='val_loss',\n",
        "                                      verbose=0,\n",
        "                                      save_weights_only=True,\n",
        "                                      save_best_only=True)"
      ],
      "execution_count": 0,
      "outputs": []
    },
    {
      "cell_type": "code",
      "metadata": {
        "id": "ow39noQwb7Vo",
        "colab_type": "code",
        "colab": {}
      },
      "source": [
        "from tensorflow.keras.callbacks import EarlyStopping\n",
        "\n",
        "callback_early_stopping = EarlyStopping(monitor='val_loss',\n",
        "                                        patience=5, \n",
        "                                        verbose=1)"
      ],
      "execution_count": 0,
      "outputs": []
    },
    {
      "cell_type": "code",
      "metadata": {
        "id": "oKV9_1pCcHdj",
        "colab_type": "code",
        "colab": {}
      },
      "source": [
        "from tensorflow.python.keras.callbacks import TensorBoard\n",
        "\n",
        "tensorboard_logs_filepath = \"./MLP_logs/\"\n",
        "\n",
        "callback_tensorboard = TensorBoard(log_dir=tensorboard_logs_filepath,\n",
        "                                   histogram_freq=0,\n",
        "                                   write_graph=False)"
      ],
      "execution_count": 0,
      "outputs": []
    },
    {
      "cell_type": "code",
      "metadata": {
        "id": "zUc_YKO1cPds",
        "colab_type": "code",
        "colab": {}
      },
      "source": [
        "from tensorflow.python.keras.callbacks import ReduceLROnPlateau\n",
        "\n",
        "callback_reduce_lr = ReduceLROnPlateau(monitor='val_loss',\n",
        "                                       factor=0.1,\n",
        "                                       min_lr=1e-4,\n",
        "                                       patience=0,\n",
        "                                       verbose=1)"
      ],
      "execution_count": 0,
      "outputs": []
    },
    {
      "cell_type": "code",
      "metadata": {
        "id": "_rQiBWeJcTJE",
        "colab_type": "code",
        "colab": {}
      },
      "source": [
        "def create_callbacks(best_model_filepath, tensorboard_logs_filepath):\n",
        "\n",
        "  callback_checkpoint = ModelCheckpoint(filepath=best_model_filepath,\n",
        "                                        monitor='val_loss',\n",
        "                                        verbose=0,\n",
        "                                        save_weights_only=True,\n",
        "                                        save_best_only=True)\n",
        "  \n",
        "  callback_early_stopping = EarlyStopping(monitor='val_loss',\n",
        "                                        patience=5, \n",
        "                                        verbose=1)\n",
        "  \n",
        "  callback_tensorboard = TensorBoard(log_dir=tensorboard_logs_filepath,\n",
        "                                   histogram_freq=0,\n",
        "                                   write_graph=False)\n",
        "  \n",
        "  callback_reduce_lr = ReduceLROnPlateau(monitor='val_loss',\n",
        "                                       factor=0.1,\n",
        "                                       min_lr=1e-4,\n",
        "                                       patience=0,\n",
        "                                       verbose=1)\n",
        "  \n",
        "  return [callback_checkpoint, callback_early_stopping,\n",
        "          callback_tensorboard, callback_reduce_lr]"
      ],
      "execution_count": 0,
      "outputs": []
    },
    {
      "cell_type": "code",
      "metadata": {
        "id": "pn_9q2IkcYJ7",
        "colab_type": "code",
        "colab": {}
      },
      "source": [
        "#TRAIN MODEL\n",
        "from sklearn.utils import class_weight\n",
        "# calculate the class weights\n",
        "class_weights = class_weight.compute_class_weight('balanced',\n",
        "                                                  np.unique(y_train),\n",
        "                                                  y_train)"
      ],
      "execution_count": 0,
      "outputs": []
    },
    {
      "cell_type": "code",
      "metadata": {
        "id": "FVwQOhx3ccNn",
        "colab_type": "code",
        "colab": {
          "base_uri": "https://localhost:8080/",
          "height": 377
        },
        "outputId": "d2ceb088-af2f-472c-cccd-bf626ac0abe5"
      },
      "source": [
        "EPOCHS = 20\n",
        "BATCH_SIZE = 64\n",
        "\n",
        "history = model.fit(X_train, \n",
        "                    y_train,\n",
        "                    batch_size=BATCH_SIZE, \n",
        "                    epochs=EPOCHS,\n",
        "                    validation_split=0.1,\n",
        "                    callbacks= create_callbacks(best_model_filepath, \n",
        "                                                tensorboard_logs_filepath),\n",
        "                    class_weight = class_weights,\n",
        "                    verbose=1)"
      ],
      "execution_count": 28,
      "outputs": [
        {
          "output_type": "stream",
          "text": [
            "Train on 14009 samples, validate on 1557 samples\n",
            "Epoch 1/20\n",
            "14009/14009 [==============================] - 3s 203us/sample - loss: 0.0453 - accuracy: 0.9852 - AUC: 0.9756 - Recall: 0.8382 - Precision: 0.8248 - val_loss: 0.0444 - val_accuracy: 0.9846 - val_AUC: 0.9978 - val_Recall: 0.9608 - val_Precision: 0.6901\n",
            "Epoch 2/20\n",
            "14009/14009 [==============================] - 2s 111us/sample - loss: 0.0162 - accuracy: 0.9940 - AUC: 0.9975 - Recall: 0.9150 - Precision: 0.9459 - val_loss: 0.0256 - val_accuracy: 0.9884 - val_AUC: 0.9779 - val_Recall: 0.7843 - val_Precision: 0.8511\n",
            "Epoch 3/20\n",
            "13760/14009 [============================>.] - ETA: 0s - loss: 0.0088 - accuracy: 0.9965 - AUC: 0.9997 - Recall: 0.9570 - Precision: 0.9633\n",
            "Epoch 00003: ReduceLROnPlateau reducing learning rate to 0.00010000000474974513.\n",
            "14009/14009 [==============================] - 2s 109us/sample - loss: 0.0090 - accuracy: 0.9964 - AUC: 0.9997 - Recall: 0.9542 - Precision: 0.9621 - val_loss: 0.0329 - val_accuracy: 0.9904 - val_AUC: 0.9976 - val_Recall: 0.9412 - val_Precision: 0.8000\n",
            "Epoch 4/20\n",
            "13696/14009 [============================>.] - ETA: 0s - loss: 0.0035 - accuracy: 0.9991 - AUC: 1.0000 - Recall: 0.9866 - Precision: 0.9932\n",
            "Epoch 00004: ReduceLROnPlateau reducing learning rate to 0.0001.\n",
            "14009/14009 [==============================] - 2s 111us/sample - loss: 0.0035 - accuracy: 0.9991 - AUC: 1.0000 - Recall: 0.9869 - Precision: 0.9934 - val_loss: 0.0353 - val_accuracy: 0.9904 - val_AUC: 0.9970 - val_Recall: 0.9412 - val_Precision: 0.8000\n",
            "Epoch 5/20\n",
            "14009/14009 [==============================] - 2s 111us/sample - loss: 0.0016 - accuracy: 0.9999 - AUC: 1.0000 - Recall: 0.9967 - Precision: 1.0000 - val_loss: 0.0376 - val_accuracy: 0.9897 - val_AUC: 0.9874 - val_Recall: 0.9216 - val_Precision: 0.7966\n",
            "Epoch 6/20\n",
            "14009/14009 [==============================] - 2s 110us/sample - loss: 0.0011 - accuracy: 0.9999 - AUC: 1.0000 - Recall: 0.9984 - Precision: 1.0000 - val_loss: 0.0407 - val_accuracy: 0.9884 - val_AUC: 0.9873 - val_Recall: 0.9020 - val_Precision: 0.7797\n",
            "Epoch 7/20\n",
            "14009/14009 [==============================] - 2s 111us/sample - loss: 8.3155e-04 - accuracy: 0.9999 - AUC: 1.0000 - Recall: 0.9984 - Precision: 1.0000 - val_loss: 0.0432 - val_accuracy: 0.9878 - val_AUC: 0.9775 - val_Recall: 0.9020 - val_Precision: 0.7667\n",
            "Epoch 00007: early stopping\n"
          ],
          "name": "stdout"
        }
      ]
    },
    {
      "cell_type": "code",
      "metadata": {
        "id": "_lNVYVSXchQ5",
        "colab_type": "code",
        "colab": {
          "base_uri": "https://localhost:8080/",
          "height": 204
        },
        "outputId": "80df34f2-5c8a-44d7-f175-175e958b6f96"
      },
      "source": [
        "#Evaluate Model\n",
        "list(history.history.keys())"
      ],
      "execution_count": 29,
      "outputs": [
        {
          "output_type": "execute_result",
          "data": {
            "text/plain": [
              "['loss',\n",
              " 'accuracy',\n",
              " 'AUC',\n",
              " 'Recall',\n",
              " 'Precision',\n",
              " 'val_loss',\n",
              " 'val_accuracy',\n",
              " 'val_AUC',\n",
              " 'val_Recall',\n",
              " 'val_Precision',\n",
              " 'lr']"
            ]
          },
          "metadata": {
            "tags": []
          },
          "execution_count": 29
        }
      ]
    },
    {
      "cell_type": "code",
      "metadata": {
        "id": "ehNHwHkMcm4t",
        "colab_type": "code",
        "colab": {
          "base_uri": "https://localhost:8080/",
          "height": 1000
        },
        "outputId": "03ee8571-b5f5-492c-97fb-2b0e575a8710"
      },
      "source": [
        "import matplotlib.pyplot as plt\n",
        "\n",
        "def plot_progress(history_dict):\n",
        "  for key in list(history_dict.keys())[:5]:\n",
        "    plt.clf() # Clears the figure\n",
        "    training_values = history_dict[key] \n",
        "    val_values = history_dict['val_'+key]\n",
        "\n",
        "    epochs = range(1, len(training_values) + 1)\n",
        "\n",
        "    plt.plot(epochs, training_values, 'bo', label='Training '+key)\n",
        "\n",
        "    plt.plot(epochs, val_values, 'b', label='Validation '+key)\n",
        "\n",
        "    if key != 'loss':\n",
        "      plt.ylim([0.,1.1])\n",
        "\n",
        "    plt.title('Training and Validation '+key) \n",
        "    plt.xlabel('Epochs')\n",
        "    plt.ylabel(key)\n",
        "    plt.legend()\n",
        "    plt.show()\n",
        "    \n",
        "plot_progress(history.history)"
      ],
      "execution_count": 30,
      "outputs": [
        {
          "output_type": "display_data",
          "data": {
            "image/png": "[encoded data removed]",
            "text/plain": [
              "<Figure size 432x288 with 1 Axes>"
            ]
          },
          "metadata": {
            "tags": [],
            "needs_background": "light"
          }
        },
        {
          "output_type": "display_data",
          "data": {
            "image/png": "[encoded data removed]",
            "text/plain": [
              "<Figure size 432x288 with 1 Axes>"
            ]
          },
          "metadata": {
            "tags": [],
            "needs_background": "light"
          }
        },
        {
          "output_type": "display_data",
          "data": {
            "image/png": "[encoded data removed]",
            "text/plain": [
              "<Figure size 432x288 with 1 Axes>"
            ]
          },
          "metadata": {
            "tags": [],
            "needs_background": "light"
          }
        },
        {
          "output_type": "display_data",
          "data": {
            "image/png": "[encoded data removed]",
            "text/plain": [
              "<Figure size 432x288 with 1 Axes>"
            ]
          },
          "metadata": {
            "tags": [],
            "needs_background": "light"
          }
        },
        {
          "output_type": "display_data",
          "data": {
            "image/png": "[encoded data removed]",
            "text/plain": [
              "<Figure size 432x288 with 1 Axes>"
            ]
          },
          "metadata": {
            "tags": [],
            "needs_background": "light"
          }
        }
      ]
    },
    {
      "cell_type": "code",
      "metadata": {
        "id": "RomooauucqUV",
        "colab_type": "code",
        "colab": {
          "base_uri": "https://localhost:8080/",
          "height": 221
        },
        "outputId": "f120f141-fd86-49cb-8ee1-878ff0f75d0f"
      },
      "source": [
        "clear_session()\n",
        "\n",
        "model = create_model()\n",
        "model.load_weights(best_model_filepath)\n",
        "metrics = model.evaluate(X_test, y_test)\n",
        "\n",
        "pd.DataFrame(metrics, index = model.metrics_names)"
      ],
      "execution_count": 31,
      "outputs": [
        {
          "output_type": "stream",
          "text": [
            "5050/5050 [==============================] - 1s 139us/sample - loss: 0.0064 - accuracy: 0.9984 - AUC: 0.9952 - Recall: 0.9558 - Precision: 0.9730\n"
          ],
          "name": "stdout"
        },
        {
          "output_type": "execute_result",
          "data": {
            "text/html": [
              "<div>\n",
              "<style scoped>\n",
              "    .dataframe tbody tr th:only-of-type {\n",
              "        vertical-align: middle;\n",
              "    }\n",
              "\n",
              "    .dataframe tbody tr th {\n",
              "        vertical-align: top;\n",
              "    }\n",
              "\n",
              "    .dataframe thead th {\n",
              "        text-align: right;\n",
              "    }\n",
              "</style>\n",
              "<table border=\"1\" class=\"dataframe\">\n",
              "  <thead>\n",
              "    <tr style=\"text-align: right;\">\n",
              "      <th></th>\n",
              "      <th>0</th>\n",
              "    </tr>\n",
              "  </thead>\n",
              "  <tbody>\n",
              "    <tr>\n",
              "      <th>loss</th>\n",
              "      <td>0.006421</td>\n",
              "    </tr>\n",
              "    <tr>\n",
              "      <th>accuracy</th>\n",
              "      <td>0.998416</td>\n",
              "    </tr>\n",
              "    <tr>\n",
              "      <th>AUC</th>\n",
              "      <td>0.995236</td>\n",
              "    </tr>\n",
              "    <tr>\n",
              "      <th>Recall</th>\n",
              "      <td>0.955752</td>\n",
              "    </tr>\n",
              "    <tr>\n",
              "      <th>Precision</th>\n",
              "      <td>0.972973</td>\n",
              "    </tr>\n",
              "  </tbody>\n",
              "</table>\n",
              "</div>"
            ],
            "text/plain": [
              "                  0\n",
              "loss       0.006421\n",
              "accuracy   0.998416\n",
              "AUC        0.995236\n",
              "Recall     0.955752\n",
              "Precision  0.972973"
            ]
          },
          "metadata": {
            "tags": []
          },
          "execution_count": 31
        }
      ]
    }
  ]
}